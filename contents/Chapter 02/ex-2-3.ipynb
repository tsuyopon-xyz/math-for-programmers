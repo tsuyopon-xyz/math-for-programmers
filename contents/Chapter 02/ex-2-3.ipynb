{
 "cells": [
  {
   "cell_type": "code",
   "execution_count": 123,
   "metadata": {},
   "outputs": [],
   "source": [
    "from vector_drawing import *\n",
    "from math import sin, cos, tan, pi, sqrt, asin, atan2"
   ]
  },
  {
   "cell_type": "code",
   "execution_count": 31,
   "metadata": {},
   "outputs": [
    {
     "data": {
      "text/plain": [
       "0.9999999999999999"
      ]
     },
     "execution_count": 31,
     "metadata": {},
     "output_type": "execute_result"
    }
   ],
   "source": [
    "angle = 45\n",
    "tan(pi * angle / 180.0)"
   ]
  },
  {
   "cell_type": "code",
   "execution_count": 69,
   "metadata": {},
   "outputs": [],
   "source": [
    "def calc_distance(vector):\n",
    "    return sqrt(vector[0] ** 2 + vector[1] ** 2)\n",
    "\n",
    "# 極座標（例: (長さ, 角度)） から 直交座標（例: (x座標, y座標)）への変換\n",
    "def to_cartesian(polar_vector):\n",
    "    length, angle = polar_vector[0], polar_vector[1]\n",
    "    return (length * cos(angle), length * sin(angle))\n",
    "\n",
    "# 直交座標から極座標への変換\n",
    "def to_polar(cartesian_vector):\n",
    "    x, y = cartesian_vector[0], cartesian_vector[1]\n",
    "    length = calc_distance(cartesian_vector)\n",
    "    angle = atan2(y, x)\n",
    "    return (length, angle)"
   ]
  },
  {
   "cell_type": "code",
   "execution_count": 70,
   "metadata": {},
   "outputs": [
    {
     "data": {
      "text/plain": [
       "(3.993177550236464, 3.0090751157602416)"
      ]
     },
     "execution_count": 70,
     "metadata": {},
     "output_type": "execute_result"
    }
   ],
   "source": [
    "length = 5\n",
    "angle = pi * 37/180\n",
    "p_vec = (5, angle)\n",
    "\n",
    "to_cartesian(p_vec)"
   ]
  },
  {
   "cell_type": "code",
   "execution_count": 75,
   "metadata": {},
   "outputs": [
    {
     "data": {
      "text/plain": [
       "(1.4142135623730951, 0.7853981633974483)"
      ]
     },
     "execution_count": 75,
     "metadata": {},
     "output_type": "execute_result"
    }
   ],
   "source": [
    "v = (1, 1)\n",
    "to_polar(v)"
   ]
  },
  {
   "cell_type": "code",
   "execution_count": 54,
   "metadata": {},
   "outputs": [
    {
     "data": {
      "text/plain": [
       "0.8414709848078965"
      ]
     },
     "execution_count": 54,
     "metadata": {},
     "output_type": "execute_result"
    }
   ],
   "source": [
    "sin(1)"
   ]
  },
  {
   "cell_type": "code",
   "execution_count": 64,
   "metadata": {},
   "outputs": [
    {
     "data": {
      "text/plain": [
       "0.9827937232473292"
      ]
     },
     "execution_count": 64,
     "metadata": {},
     "output_type": "execute_result"
    }
   ],
   "source": [
    "asin(3/sqrt(13))"
   ]
  },
  {
   "cell_type": "code",
   "execution_count": 68,
   "metadata": {},
   "outputs": [
    {
     "data": {
      "text/plain": [
       "123.69006752597979"
      ]
     },
     "execution_count": 68,
     "metadata": {},
     "output_type": "execute_result"
    }
   ],
   "source": [
    "2.158798930342464 * (180/pi)"
   ]
  },
  {
   "cell_type": "code",
   "execution_count": 76,
   "metadata": {},
   "outputs": [
    {
     "data": {
      "text/plain": [
       "2.9963310898497184"
      ]
     },
     "execution_count": 76,
     "metadata": {},
     "output_type": "execute_result"
    }
   ],
   "source": [
    "#問2.27\n",
    "calc_distance((-1.34, 2.68))"
   ]
  },
  {
   "cell_type": "code",
   "execution_count": 78,
   "metadata": {},
   "outputs": [
    {
     "data": {
      "text/plain": [
       "0.4040262258351568"
      ]
     },
     "execution_count": 78,
     "metadata": {},
     "output_type": "execute_result"
    }
   ],
   "source": [
    "#問2.28\n",
    "tan(pi * 22/180)"
   ]
  },
  {
   "cell_type": "code",
   "execution_count": 79,
   "metadata": {},
   "outputs": [
    {
     "name": "stdout",
     "output_type": "stream",
     "text": [
      "(11.979532650709393, 9.027225347280725)\n"
     ]
    }
   ],
   "source": [
    "#問2.29\n",
    "def q_2_29():\n",
    "    length = 15\n",
    "    angle = pi * 37 / 180\n",
    "    print(to_cartesian((length, angle)))\n",
    "\n",
    "q_2_29()"
   ]
  },
  {
   "cell_type": "code",
   "execution_count": 92,
   "metadata": {},
   "outputs": [
    {
     "name": "stdout",
     "output_type": "stream",
     "text": [
      "(-4.879, 6.961499999999999)\n"
     ]
    }
   ],
   "source": [
    "#問2.30\n",
    "def q_2_30():\n",
    "    length = 8.5\n",
    "#     angle = pi * 125 / 180\n",
    "#     x, y = length * cos(angle), length * sin(angle)\n",
    "    sin_value, cos_value = 0.819, -0.574\n",
    "    x, y = length * cos_value, length * sin_value\n",
    "    print((x, y))\n",
    "\n",
    "q_2_30()"
   ]
  },
  {
   "cell_type": "code",
   "execution_count": 81,
   "metadata": {},
   "outputs": [
    {
     "data": {
      "text/plain": [
       "0.819152044288992"
      ]
     },
     "execution_count": 81,
     "metadata": {},
     "output_type": "execute_result"
    }
   ],
   "source": [
    "sin(pi*125/180)"
   ]
  },
  {
   "cell_type": "code",
   "execution_count": 99,
   "metadata": {},
   "outputs": [
    {
     "name": "stdout",
     "output_type": "stream",
     "text": [
      "0.9999999999999999\n",
      "sin(30) : 0.49999999999999994\n",
      "cos(30) : 0.8660254037844387\n",
      "tan(30) : 0.5773502691896257\n"
     ]
    }
   ],
   "source": [
    "#問2.32\n",
    "def q_2_32_1():\n",
    "    x = sqrt(3) / 2\n",
    "    y = 1 / 2\n",
    "    print(calc_distance((x, y)))\n",
    "    \n",
    "def q_2_32_2():\n",
    "    angle = pi * 30 / 180\n",
    "    print('sin(30) : {value}'.format(value=sin(angle)))\n",
    "    print('cos(30) : {value}'.format(value=cos(angle)))\n",
    "    print('tan(30) : {value}'.format(value=tan(angle)))\n",
    "\n",
    "q_2_32_1()\n",
    "q_2_32_2()"
   ]
  },
  {
   "cell_type": "code",
   "execution_count": 108,
   "metadata": {},
   "outputs": [
    {
     "name": "stdout",
     "output_type": "stream",
     "text": [
      "cos_50 :  0.643\n",
      "sin_50 :  0.7658661762997502\n",
      "tan_50 :  1.1910827003106534\n"
     ]
    }
   ],
   "source": [
    "#問2.34\n",
    "def q_2_34():\n",
    "    # cos(50) : 0.643\n",
    "    # sin(50) : ?\n",
    "    # tan(50) : ?\n",
    "    cos_50 = 0.643\n",
    "    sin_50 = sqrt(1**2 - cos_50 ** 2)\n",
    "    tan_50 = sin_50 / cos_50\n",
    "    print('cos_50 : ', cos_50)\n",
    "    print('sin_50 : ', sin_50)\n",
    "    print('tan_50 : ', tan_50)\n",
    "\n",
    "q_2_34()"
   ]
  },
  {
   "cell_type": "code",
   "execution_count": 112,
   "metadata": {},
   "outputs": [
    {
     "name": "stdout",
     "output_type": "stream",
     "text": [
      "2.03453030904979 -1.9995682083189954\n"
     ]
    }
   ],
   "source": [
    "# 問2.35\n",
    "def q_2_35():\n",
    "    normal_angle = 116.57\n",
    "    radian_angle = normal_angle * (pi / 180)\n",
    "    print(radian_angle, tan(radian_angle))\n",
    "\n",
    "q_2_35()"
   ]
  },
  {
   "cell_type": "code",
   "execution_count": 114,
   "metadata": {},
   "outputs": [
    {
     "name": "stdout",
     "output_type": "stream",
     "text": [
      "cos_value :  0.49999999999999933\n",
      "sin_value :  -0.866025403784439\n"
     ]
    }
   ],
   "source": [
    "# 問2.36\n",
    "def q_2_36():\n",
    "    angle = 10 * (pi / 6)\n",
    "    cos_value = cos(angle)\n",
    "    sin_value = sin(angle)\n",
    "    print('cos_value : ', cos_value)\n",
    "    print('sin_value : ', sin_value)\n",
    "\n",
    "q_2_36()"
   ]
  },
  {
   "cell_type": "code",
   "execution_count": 140,
   "metadata": {},
   "outputs": [
    {
     "data": {
      "image/png": "[encoded data removed]",
      "text/plain": [
       "<Figure size 432x432 with 1 Axes>"
      ]
     },
     "metadata": {
      "needs_background": "light"
     },
     "output_type": "display_data"
    }
   ],
   "source": [
    "# 問2.37\n",
    "def q_2_37():\n",
    "    polar_coordinates = [(cos(5*x*pi/500.0), 2*pi*x/1000.0 ) for x in range(0, 1000)]\n",
    "    cartesian_coordinates = [to_cartesian(pc) for pc in polar_coordinates]\n",
    "    draw( Polygon(*cartesian_coordinates) )\n",
    "\n",
    "q_2_37()"
   ]
  },
  {
   "cell_type": "code",
   "execution_count": 162,
   "metadata": {},
   "outputs": [
    {
     "name": "stdout",
     "output_type": "stream",
     "text": [
      "角度 : 約124°\n",
      "ラジアン角度 : 2.1642082724729685°\n"
     ]
    }
   ],
   "source": [
    "# 問2.38\n",
    "def q_2_38():\n",
    "    vector = (-2, 3)\n",
    "    tan_value = vector[1] / vector[0] # -1.5\n",
    "    \n",
    "    for a in range(90, 181):\n",
    "        angle = a * (pi / 180)\n",
    "        candidate_angle = tan(angle)\n",
    "        allowed_diff = 0.03\n",
    "        if candidate_angle >= tan_value - allowed_diff and candidate_angle <= tan_value + allowed_diff:\n",
    "            print('角度 : 約{angle}°'.format(angle=a))\n",
    "            print('ラジアン角度 : {angle}°'.format(angle=angle))\n",
    "\n",
    "    \n",
    "    \n",
    "#     return pi, pi / 2\n",
    "\n",
    "q_2_38()"
   ]
  },
  {
   "cell_type": "code",
   "execution_count": 165,
   "metadata": {},
   "outputs": [
    {
     "data": {
      "text/plain": [
       "-1.5"
      ]
     },
     "execution_count": 165,
     "metadata": {},
     "output_type": "execute_result"
    }
   ],
   "source": [
    "def q_2_39():\n",
    "    vector = (2, -3);\n",
    "    theta = atan2(vector[1], vector[0])\n",
    "    return tan(theta)\n",
    "\n",
    "q_2_39()"
   ]
  },
  {
   "cell_type": "code",
   "execution_count": 176,
   "metadata": {},
   "outputs": [
    {
     "name": "stdout",
     "output_type": "stream",
     "text": [
      "(1, 1) (1.4142135623730951, 45.0)\n",
      "(1, -1) (1.4142135623730951, -45.0)\n"
     ]
    }
   ],
   "source": [
    "# 問2.40\n",
    "def q_2_40():\n",
    "    v1 = to_polar((1, 1))\n",
    "    v2 = to_polar((1, -1))\n",
    "    print('(1, 1)', (v1[0], v1[1]*(180/pi)))\n",
    "    print('(1, -1)', (v2[0], v2[1]*(180/pi)))\n",
    "\n",
    "q_2_40()"
   ]
  },
  {
   "cell_type": "code",
   "execution_count": 192,
   "metadata": {},
   "outputs": [
    {
     "data": {
      "image/png": "[encoded data removed]",
      "text/plain": [
       "<Figure size 432x365.538 with 1 Axes>"
      ]
     },
     "metadata": {
      "needs_background": "light"
     },
     "output_type": "display_data"
    },
    {
     "name": "stdout",
     "output_type": "stream",
     "text": [
      "口の角度 :  18.43494882292201\n",
      "つま先の角度 :  45.0\n",
      "しっぽの角度(1) :  26.56505117707799\n",
      "しっぽの角度(違う計算方法) :  26.56505117707799\n"
     ]
    }
   ],
   "source": [
    "# 問2.41\n",
    "dino_vectors = [\n",
    "  (6,4), (3,1), (1,2),\n",
    "  (-1,5), (-2,5), (-3,4),\n",
    "  (-4,4), (-5,3), (-5,2),\n",
    "  (-2,2), (-5,1), (-4,0),\n",
    "  (-2,1), (-1,0), (0,-3),\n",
    "  (-1,-4), (1,-4), (2,-3),\n",
    "  (1,-2), (3,-1), (5,1)\n",
    "]\n",
    "\n",
    "draw( Polygon(*dino_vectors) )\n",
    "\n",
    "\n",
    "def to_normal_angle(radian):\n",
    "    return radian * (180 / pi)\n",
    "\n",
    "def q_2_41_mouth():\n",
    "    cartesian_coordinate = (3, 1)\n",
    "    polar_coordinate = to_polar(cartesian_coordinate)\n",
    "    print('口の角度 : ', to_normal_angle(polar_coordinate[1]))\n",
    "\n",
    "def q_2_41_toe():\n",
    "    cartesian_coordinate = (1, 1)\n",
    "    polar_coordinate = to_polar(cartesian_coordinate)\n",
    "    print('つま先の角度 : ', to_normal_angle(polar_coordinate[1]))\n",
    "    \n",
    "def q_2_41_tail():\n",
    "    cartesian_coordinate = (2*sqrt(2), sqrt(2))\n",
    "    polar_coordinate = to_polar(cartesian_coordinate)\n",
    "    print('しっぽの角度(1) : ', to_normal_angle(polar_coordinate[1]))\n",
    "    cc1 = (3, 3)\n",
    "    cc2 = (1, 3)\n",
    "    pc1 = to_polar(cc1)\n",
    "    pc2 = to_polar(cc2)\n",
    "    angle1 = to_normal_angle(pc1[1])\n",
    "    angle2 = 90 - to_normal_angle(pc2[1])\n",
    "    tail_angle = 90 - angle1 - angle2\n",
    "    print('しっぽの角度(違う計算方法) : ', tail_angle)\n",
    "\n",
    "q_2_41_mouth()\n",
    "q_2_41_toe()\n",
    "q_2_41_tail()"
   ]
  },
  {
   "cell_type": "code",
   "execution_count": null,
   "metadata": {},
   "outputs": [],
   "source": []
  }
 ],
 "metadata": {
  "kernelspec": {
   "display_name": "Python 3",
   "language": "python",
   "name": "python3"
  },
  "language_info": {
   "codemirror_mode": {
    "name": "ipython",
    "version": 3
   },
   "file_extension": ".py",
   "mimetype": "text/x-python",
   "name": "python",
   "nbconvert_exporter": "python",
   "pygments_lexer": "ipython3",
   "version": "3.7.3"
  }
 },
 "nbformat": 4,
 "nbformat_minor": 2
}
