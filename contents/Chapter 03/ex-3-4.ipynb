{
 "cells": [
  {
   "cell_type": "code",
   "execution_count": 1,
   "metadata": {},
   "outputs": [],
   "source": [
    "def cross(u, v):\n",
    "    ux, uy, uz = u\n",
    "    vx, vy, vz = v\n",
    "    \n",
    "    return (uy*vz - uz*vy, uz*vx - ux*vz, ux*vy - uy*vx)"
   ]
  },
  {
   "cell_type": "code",
   "execution_count": 2,
   "metadata": {},
   "outputs": [
    {
     "data": {
      "text/plain": [
       "(0, -3, 0)"
      ]
     },
     "execution_count": 2,
     "metadata": {},
     "output_type": "execute_result"
    }
   ],
   "source": [
    "cross((1,0,1), (-2, 0, 1))"
   ]
  },
  {
   "cell_type": "code",
   "execution_count": 5,
   "metadata": {},
   "outputs": [
    {
     "data": {
      "text/plain": [
       "(6, 0, 0)"
      ]
     },
     "execution_count": 5,
     "metadata": {},
     "output_type": "execute_result"
    }
   ],
   "source": [
    "#問3.21\n",
    "cross((0,0,3), (0,-2,0))"
   ]
  },
  {
   "cell_type": "code",
   "execution_count": 7,
   "metadata": {},
   "outputs": [
    {
     "data": {
      "text/plain": [
       "(0, 0, 0)"
      ]
     },
     "execution_count": 7,
     "metadata": {},
     "output_type": "execute_result"
    }
   ],
   "source": [
    "#問3.22\n",
    "cross((1,-2,1), (-6,12,-6))"
   ]
  },
  {
   "cell_type": "code",
   "execution_count": 8,
   "metadata": {},
   "outputs": [
    {
     "data": {
      "text/plain": [
       "(0, -1, 0)"
      ]
     },
     "execution_count": 8,
     "metadata": {},
     "output_type": "execute_result"
    }
   ],
   "source": [
    "#問3.24\n",
    "cross((1,0,1), (-1,0,0))"
   ]
  },
  {
   "cell_type": "code",
   "execution_count": 12,
   "metadata": {},
   "outputs": [
    {
     "name": "stdout",
     "output_type": "stream",
     "text": [
      "(0, 0, 0)  :  (0, 0, 0)\n",
      "(0, 0, 0)  :  (0, 0, 1)\n",
      "(0, 0, 0)  :  (0, 0, 2)\n",
      "(-1, 0, 0)  :  (0, 1, 0)\n",
      "(-1, 0, 0)  :  (0, 1, 1)\n",
      "(-1, 0, 0)  :  (0, 1, 2)\n",
      "(-2, 0, 0)  :  (0, 2, 0)\n",
      "(-2, 0, 0)  :  (0, 2, 1)\n",
      "(-2, 0, 0)  :  (0, 2, 2)\n",
      "(0, 1, 0)  :  (1, 0, 0)\n",
      "(0, 1, 0)  :  (1, 0, 1)\n",
      "(0, 1, 0)  :  (1, 0, 2)\n",
      "(-1, 1, 0)  :  (1, 1, 0)\n",
      "(-1, 1, 0)  :  (1, 1, 1)\n",
      "(-1, 1, 0)  :  (1, 1, 2)\n",
      "(-2, 1, 0)  :  (1, 2, 0)\n",
      "(-2, 1, 0)  :  (1, 2, 1)\n",
      "(-2, 1, 0)  :  (1, 2, 2)\n",
      "(0, 2, 0)  :  (2, 0, 0)\n",
      "(0, 2, 0)  :  (2, 0, 1)\n",
      "(0, 2, 0)  :  (2, 0, 2)\n",
      "(-1, 2, 0)  :  (2, 1, 0)\n",
      "(-1, 2, 0)  :  (2, 1, 1)\n",
      "(-1, 2, 0)  :  (2, 1, 2)\n",
      "(-2, 2, 0)  :  (2, 2, 0)\n",
      "(-2, 2, 0)  :  (2, 2, 1)\n",
      "(-2, 2, 0)  :  (2, 2, 2)\n"
     ]
    }
   ],
   "source": [
    "#問3.25\n",
    "for x in range(0, 3):\n",
    "    for y in range(0, 3):\n",
    "        for z in range(0, 3):\n",
    "            u = (0, 0, 1)\n",
    "            v = (x, y, z)\n",
    "            print(cross(u, v), ' : ', v)"
   ]
  },
  {
   "cell_type": "code",
   "execution_count": 21,
   "metadata": {},
   "outputs": [
    {
     "data": {
      "text/plain": [
       "(0, -1, 0)"
      ]
     },
     "execution_count": 21,
     "metadata": {},
     "output_type": "execute_result"
    }
   ],
   "source": [
    "cross((1,0,0), (0,0,1))"
   ]
  },
  {
   "cell_type": "code",
   "execution_count": null,
   "metadata": {},
   "outputs": [],
   "source": []
  }
 ],
 "metadata": {
  "kernelspec": {
   "display_name": "Python 3",
   "language": "python",
   "name": "python3"
  },
  "language_info": {
   "codemirror_mode": {
    "name": "ipython",
    "version": 3
   },
   "file_extension": ".py",
   "mimetype": "text/x-python",
   "name": "python",
   "nbconvert_exporter": "python",
   "pygments_lexer": "ipython3",
   "version": "3.7.3"
  }
 },
 "nbformat": 4,
 "nbformat_minor": 2
}
