{
 "cells": [
  {
   "cell_type": "code",
   "execution_count": 84,
   "metadata": {},
   "outputs": [],
   "source": [
    "%matplotlib inline\n",
    "import matplotlib.pyplot as plt\n",
    "import numpy as np\n",
    "import pandas as pd\n",
    "from sympy import Symbol, solve\n",
    "import math\n",
    "\n",
    "pd.set_option('display.max_rows', None)\n",
    "\n",
    "def plot(x, y, color='blue', axis='equal'):\n",
    "    plt.plot(x, y, color=color)\n",
    "    plt.axis(axis)\n",
    "    plt.grid(color='0.8')\n",
    "    plt.show()"
   ]
  },
  {
   "cell_type": "code",
   "execution_count": 7,
   "metadata": {},
   "outputs": [
    {
     "data": {
      "text/plain": [
       "matrix([[ 80, 140],\n",
       "        [ 30,  25]])"
      ]
     },
     "execution_count": 7,
     "metadata": {},
     "output_type": "execute_result"
    }
   ],
   "source": [
    "A = np.matrix([\n",
    "    [50, 40],\n",
    "    [10, 10]\n",
    "])\n",
    "B = np.matrix([\n",
    "    [30, 100],\n",
    "    [20, 15]\n",
    "])\n",
    "\n",
    "A+B"
   ]
  },
  {
   "cell_type": "code",
   "execution_count": 12,
   "metadata": {},
   "outputs": [
    {
     "data": {
      "text/plain": [
       "matrix([[540, 940],\n",
       "        [430, 730]])"
      ]
     },
     "execution_count": 12,
     "metadata": {},
     "output_type": "execute_result"
    }
   ],
   "source": [
    "A = np.matrix([\n",
    "    [1, 3],\n",
    "    [2, 1]\n",
    "])\n",
    "B = np.matrix([\n",
    "    [150, 250],\n",
    "    [130, 230]\n",
    "])\n",
    "\n",
    "A*B"
   ]
  },
  {
   "cell_type": "code",
   "execution_count": 30,
   "metadata": {},
   "outputs": [
    {
     "data": {
      "text/plain": [
       "matrix([[1, 0],\n",
       "        [0, 1]])"
      ]
     },
     "execution_count": 30,
     "metadata": {},
     "output_type": "execute_result"
    }
   ],
   "source": [
    "A = np.matrix([\n",
    "    [3, 4],\n",
    "    [5, 6]\n",
    "])\n",
    "\n",
    "A_rev = 1 / (18 - 20) * np.matrix([[6, -4], [-5, 3]])\n",
    "(A_rev * A).astype(np.int64)"
   ]
  },
  {
   "cell_type": "code",
   "execution_count": 41,
   "metadata": {},
   "outputs": [
    {
     "data": {
      "text/plain": [
       "matrix([[ 3.],\n",
       "        [-2.]])"
      ]
     },
     "execution_count": 41,
     "metadata": {},
     "output_type": "execute_result"
    }
   ],
   "source": [
    "k = np.matrix([\n",
    "    [5, 3],\n",
    "    [2, 1]\n",
    "])\n",
    "k_inv = np.linalg.inv(k)\n",
    "answer = np.matrix([\n",
    "    [9],\n",
    "    [4]\n",
    "])\n",
    "k_inv * answer"
   ]
  },
  {
   "cell_type": "code",
   "execution_count": 45,
   "metadata": {},
   "outputs": [
    {
     "data": {
      "text/plain": [
       "matrix([[-3],\n",
       "        [ 2]])"
      ]
     },
     "execution_count": 45,
     "metadata": {},
     "output_type": "execute_result"
    }
   ],
   "source": [
    "p = np.matrix([\n",
    "    [3],\n",
    "    [2]\n",
    "])\n",
    "\n",
    "A = np.matrix([\n",
    "    [-1, 0],\n",
    "    [0, 1]\n",
    "])\n",
    "\n",
    "A*p"
   ]
  },
  {
   "cell_type": "code",
   "execution_count": 77,
   "metadata": {},
   "outputs": [
    {
     "data": {
      "image/png": "[encoded data removed]",
      "text/plain": [
       "<Figure size 432x288 with 1 Axes>"
      ]
     },
     "metadata": {
      "needs_background": "light"
     },
     "output_type": "display_data"
    }
   ],
   "source": [
    "p = np.matrix([\n",
    "    [1, 3, 3, 1],\n",
    "    [1, 1, 2, 1]\n",
    "])\n",
    "A = np.matrix([\n",
    "    [0.5, 0],\n",
    "    [0, 0.5]\n",
    "])\n",
    "\n",
    "p2 = A * p\n",
    "\n",
    "p = np.array(p)\n",
    "p2 = np.array(p2)\n",
    "\n",
    "plt.plot(p[0, :], p[1, :])\n",
    "plt.plot(p2[0, :], p2[1, :])\n",
    "plt.axis('equal')\n",
    "plt.grid(color='0.8')"
   ]
  },
  {
   "cell_type": "code",
   "execution_count": 109,
   "metadata": {},
   "outputs": [
    {
     "data": {
      "image/png": "[encoded data removed]",
      "text/plain": [
       "<Figure size 432x288 with 1 Axes>"
      ]
     },
     "metadata": {
      "needs_background": "light"
     },
     "output_type": "display_data"
    }
   ],
   "source": [
    "p = np.array([\n",
    "    [0, 1, 1, 0, 0],\n",
    "    [0, 0, 1, 1, 0]\n",
    "]) - 0.5\n",
    "p = np.matrix(p)\n",
    "\n",
    "\n",
    "angle_degrees = 45\n",
    "cos_th = np.cos(np.radians(angle_degrees))\n",
    "sin_th = np.sin(np.radians(angle_degrees))\n",
    "\n",
    "A = np.matrix([\n",
    "    [cos_th, -sin_th],\n",
    "    [sin_th, cos_th]\n",
    "])\n",
    "\n",
    "p2 = A * p\n",
    "\n",
    "p = np.array(p)\n",
    "p2 = np.array(p2)\n",
    "\n",
    "\n",
    "plt.xlabel(\"x\")\n",
    "plt.ylabel(\"y\")\n",
    "\n",
    "plt.plot(p[0, :], p[1, :])\n",
    "plt.plot(p2[0, :], p2[1, :])\n",
    "plt.axis('equal')\n",
    "plt.grid(color='0.8')\n"
   ]
  },
  {
   "cell_type": "code",
   "execution_count": 106,
   "metadata": {},
   "outputs": [
    {
     "data": {
      "text/plain": [
       "array([[-0.5,  0.5,  0.5, -0.5, -0.5],\n",
       "       [-0.5, -0.5,  0.5,  0.5, -0.5]])"
      ]
     },
     "execution_count": 106,
     "metadata": {},
     "output_type": "execute_result"
    }
   ],
   "source": [
    "np.array([\n",
    "    [0, 1, 1, 0, 0],\n",
    "    [0, 0, 1, 1, 0]\n",
    "]) - 0.5"
   ]
  },
  {
   "cell_type": "code",
   "execution_count": 148,
   "metadata": {},
   "outputs": [
    {
     "data": {
      "image/png": "[encoded data removed]",
      "text/plain": [
       "<Figure size 432x288 with 1 Axes>"
      ]
     },
     "metadata": {
      "needs_background": "light"
     },
     "output_type": "display_data"
    }
   ],
   "source": [
    "p = np.matrix([\n",
    "    [0, 2, 2, 0],\n",
    "    [0, 0, 2, 0],\n",
    "    [1, 1, 1, 1]\n",
    "])\n",
    "\n",
    "A = np.matrix([\n",
    "    [1, 0, 2],\n",
    "    [0, 1, 3],\n",
    "    [0, 0, 1]\n",
    "])\n",
    "\n",
    "B = np.matrix([\n",
    "    [2, 0, 0],\n",
    "    [0, 2, 0],\n",
    "    [0, 0, 1]\n",
    "])\n",
    "\n",
    "rad = np.radians(45)\n",
    "cos_th = np.cos(rad)\n",
    "sin_th = np.sin(rad)\n",
    "\n",
    "C = np.matrix([\n",
    "    [cos_th, -sin_th, 0],\n",
    "    [sin_th, cos_th, 0],\n",
    "    [0, 0, 1],\n",
    "])\n",
    "\n",
    "p2 = C * B * A * p\n",
    "\n",
    "p = np.array(p)\n",
    "p2 = np.array(p2)\n",
    "\n",
    "\n",
    "plt.xlabel(\"x\")\n",
    "plt.ylabel(\"y\")\n",
    "\n",
    "plt.plot(p[0, :], p[1, :])\n",
    "plt.plot(p2[0, :], p2[1, :])\n",
    "plt.axis('equal')\n",
    "plt.grid(color='0.8')"
   ]
  },
  {
   "cell_type": "code",
   "execution_count": null,
   "metadata": {},
   "outputs": [],
   "source": []
  }
 ],
 "metadata": {
  "kernelspec": {
   "display_name": "Python 3",
   "language": "python",
   "name": "python3"
  },
  "language_info": {
   "codemirror_mode": {
    "name": "ipython",
    "version": 3
   },
   "file_extension": ".py",
   "mimetype": "text/x-python",
   "name": "python",
   "nbconvert_exporter": "python",
   "pygments_lexer": "ipython3",
   "version": "3.7.3"
  }
 },
 "nbformat": 4,
 "nbformat_minor": 2
}
