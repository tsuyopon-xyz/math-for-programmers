{
 "cells": [
  {
   "cell_type": "code",
   "execution_count": 14,
   "metadata": {},
   "outputs": [],
   "source": [
    "%matplotlib inline\n",
    "import matplotlib.pyplot as plt\n",
    "import numpy as np\n",
    "import pandas as pd\n",
    "from sympy import Symbol, solve\n",
    "import math\n",
    "\n",
    "pd.set_option('display.max_rows', None)"
   ]
  },
  {
   "cell_type": "code",
   "execution_count": 2,
   "metadata": {},
   "outputs": [],
   "source": [
    "def plot(x, y, color='blue', axis='equal'):\n",
    "    plt.plot(x, y, color=color)\n",
    "    plt.axis(axis)\n",
    "    plt.grid(color='0.8')\n",
    "    plt.show()"
   ]
  },
  {
   "cell_type": "code",
   "execution_count": 3,
   "metadata": {},
   "outputs": [
    {
     "data": {
      "text/plain": [
       "{k: 1/2, t: 1/2}"
      ]
     },
     "execution_count": 3,
     "metadata": {},
     "output_type": "execute_result"
    }
   ],
   "source": [
    "k = Symbol('k')\n",
    "t = Symbol('t')\n",
    "\n",
    "ex1 = 4*k - 4*t\n",
    "ex2 = -6*k -2*t + 4\n",
    "solve((ex1, ex2))"
   ]
  },
  {
   "cell_type": "code",
   "execution_count": 8,
   "metadata": {},
   "outputs": [
    {
     "data": {
      "text/plain": [
       "15"
      ]
     },
     "execution_count": 8,
     "metadata": {},
     "output_type": "execute_result"
    }
   ],
   "source": [
    "h = np.array([3, 4])\n",
    "t = np.array([5, 0])\n",
    "\n",
    "np.dot(h, t)"
   ]
  },
  {
   "cell_type": "code",
   "execution_count": 15,
   "metadata": {},
   "outputs": [
    {
     "data": {
      "text/plain": [
       "5.000000000000001"
      ]
     },
     "execution_count": 15,
     "metadata": {},
     "output_type": "execute_result"
    }
   ],
   "source": [
    "# p.157\n",
    "10 * math.cos(math.radians(60))"
   ]
  },
  {
   "cell_type": "code",
   "execution_count": 19,
   "metadata": {},
   "outputs": [
    {
     "data": {
      "text/plain": [
       "0.5000000000000001"
      ]
     },
     "execution_count": 19,
     "metadata": {},
     "output_type": "execute_result"
    }
   ],
   "source": [
    "math.cos(math.radians(60))"
   ]
  },
  {
   "cell_type": "code",
   "execution_count": 31,
   "metadata": {},
   "outputs": [
    {
     "data": {
      "text/plain": [
       "82.8749836510982"
      ]
     },
     "execution_count": 31,
     "metadata": {},
     "output_type": "execute_result"
    }
   ],
   "source": [
    "a = np.array([2,7])\n",
    "b = np.array([6,1])\n",
    "c = np.array([2,3])\n",
    "d = np.array([6,5])\n",
    "\n",
    "# vecA * vecB = |vecA|*|vecB|*cos(theta)\n",
    "# cos(theta) = (vecA * vecB) / |vecA|*|vecB|\n",
    "\n",
    "vecAB = b - a\n",
    "vecCD = d - c\n",
    "\n",
    "dot = np.dot(vecAB, vecCD)\n",
    "normAB = np.linalg.norm(vecAB)\n",
    "normCD = np.linalg.norm(vecCD)\n",
    "\n",
    "cos_theta = dot / (normAB * normCD)\n",
    "\n",
    "\n",
    "math.degrees( math.acos(cos_theta) )"
   ]
  },
  {
   "cell_type": "code",
   "execution_count": null,
   "metadata": {},
   "outputs": [],
   "source": []
  }
 ],
 "metadata": {
  "kernelspec": {
   "display_name": "Python 3",
   "language": "python",
   "name": "python3"
  },
  "language_info": {
   "codemirror_mode": {
    "name": "ipython",
    "version": 3
   },
   "file_extension": ".py",
   "mimetype": "text/x-python",
   "name": "python",
   "nbconvert_exporter": "python",
   "pygments_lexer": "ipython3",
   "version": "3.7.3"
  }
 },
 "nbformat": 4,
 "nbformat_minor": 2
}
